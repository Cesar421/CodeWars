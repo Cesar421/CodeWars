{
 "cells": [
  {
   "cell_type": "code",
   "execution_count": 72,
   "metadata": {},
   "outputs": [],
   "source": [
    "def invert(m):\n",
    "    return ' '.join((map(lambda x: x[::-1], m.split())))\n",
    "\n",
    "def is_isogram(string):\n",
    "    a = string\n",
    "    b = invert(string)\n",
    "    if a == b:\n",
    "        return True\n",
    "    else:\n",
    "        return False\n"
   ]
  },
  {
   "cell_type": "code",
   "execution_count": 74,
   "metadata": {},
   "outputs": [
    {
     "name": "stdout",
     "output_type": "stream",
     "text": [
      "False\n",
      "False\n",
      "True\n",
      "False\n",
      "False\n",
      "True\n",
      "False\n"
     ]
    }
   ],
   "source": [
    "my_list = ['Dermatoglyphics', 'isogram', 'aba', 'moOse', 'isIsogram', '', 'ylijv']\n",
    "for i in range(0,len(my_list)):\n",
    "    a = is_isogram(my_list[i])\n",
    "    print(a)"
   ]
  },
  {
   "cell_type": "code",
   "execution_count": 75,
   "metadata": {},
   "outputs": [],
   "source": [
    "def is_isograma(word):\n",
    " \n",
    "    # Convert the word or sentence in lower case letters.\n",
    "    clean_word = word.lower()\n",
    " \n",
    "    # Make an empty list to append unique letters\n",
    "    letter_list = []\n",
    " \n",
    "    for letter in clean_word:\n",
    " \n",
    "        # If letter is an alphabet then only check\n",
    "        if letter.isalpha():\n",
    "            if letter in letter_list:\n",
    "                return False\n",
    "            letter_list.append(letter)\n",
    " \n",
    "    return True"
   ]
  },
  {
   "cell_type": "code",
   "execution_count": 76,
   "metadata": {},
   "outputs": [
    {
     "name": "stdout",
     "output_type": "stream",
     "text": [
      "True\n",
      "True\n",
      "False\n",
      "False\n",
      "False\n",
      "True\n",
      "True\n"
     ]
    }
   ],
   "source": [
    "my_list = ['Dermatoglyphics', 'isogram', 'aba', 'moOse', 'isIsogram', '', 'ylijv']\n",
    "for i in range(0,len(my_list)):\n",
    "    a = is_isograma(my_list[i])\n",
    "    print(a)"
   ]
  }
 ],
 "metadata": {
  "kernelspec": {
   "display_name": "Python 3.10.4 64-bit",
   "language": "python",
   "name": "python3"
  },
  "language_info": {
   "codemirror_mode": {
    "name": "ipython",
    "version": 3
   },
   "file_extension": ".py",
   "mimetype": "text/x-python",
   "name": "python",
   "nbconvert_exporter": "python",
   "pygments_lexer": "ipython3",
   "version": "3.10.4"
  },
  "orig_nbformat": 4,
  "vscode": {
   "interpreter": {
    "hash": "916dbcbb3f70747c44a77c7bcd40155683ae19c65e1c03b4aa3499c5328201f1"
   }
  }
 },
 "nbformat": 4,
 "nbformat_minor": 2
}
